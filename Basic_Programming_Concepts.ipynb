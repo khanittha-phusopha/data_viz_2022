{
  "nbformat": 4,
  "nbformat_minor": 0,
  "metadata": {
    "colab": {
      "name": "Basic Programming Concepts.ipynb",
      "provenance": [],
      "include_colab_link": true
    },
    "kernelspec": {
      "name": "python3",
      "display_name": "Python 3"
    },
    "language_info": {
      "name": "python"
    }
  },
  "cells": [
    {
      "cell_type": "markdown",
      "metadata": {
        "id": "view-in-github",
        "colab_type": "text"
      },
      "source": [
        "<a href=\"https://colab.research.google.com/github/khanittha-phusopha/data_viz_2022/blob/main/Basic_Programming_Concepts.ipynb\" target=\"_parent\"><img src=\"https://colab.research.google.com/assets/colab-badge.svg\" alt=\"Open In Colab\"/></a>"
      ]
    },
    {
      "cell_type": "markdown",
      "source": [
        "# Functions ($f(x) = y $)"
      ],
      "metadata": {
        "id": "WELlB7BUDwsr"
      }
    },
    {
      "cell_type": "markdown",
      "source": [
        "``` python \n",
        "def function_name(input_x): #ขึ้นต้นด้วย def แล้วตามด้วยชื่อ function แล้วรับ input ด้วยตัวแปร x\n",
        "    #do someting with input_x to get output_y จะได้ค่า y ออกมา\n",
        "    return output_y \n",
        "```"
      ],
      "metadata": {
        "id": "VeuI9PJ6EEyl"
      }
    },
    {
      "cell_type": "markdown",
      "source": [
        "$f_1(x)=x^2 + 75$"
      ],
      "metadata": {
        "id": "rhEU57T0Fwkp"
      }
    },
    {
      "cell_type": "code",
      "execution_count": null,
      "metadata": {
        "colab": {
          "base_uri": "https://localhost:8080/"
        },
        "id": "6ZGXWjIbDgNJ",
        "outputId": "27131aca-1dfb-4e51-cc74-740753e4b2c2"
      },
      "outputs": [
        {
          "output_type": "stream",
          "name": "stdout",
          "text": [
            "done!\n"
          ]
        }
      ],
      "source": [
        "# Function มีครบทุกอย่าง \n",
        "def function_f1(x):\n",
        "    a = x**2 #ยกกำลัง คือ ** สองอัน\n",
        "    y = a + 75 \n",
        "    return y #ส่งค่าออกมาเป็นค่า y\n",
        "\n",
        "print('done!') #ไม่ให้มันเยื้องแล้ว ให้มันกลับมาเหมือนเดิม "
      ]
    },
    {
      "cell_type": "code",
      "source": [
        "function_f1(3) # x =  3 ค่าที่ได้จะเท่ากับ 84"
      ],
      "metadata": {
        "colab": {
          "base_uri": "https://localhost:8080/"
        },
        "id": "3HvDT8wkECFz",
        "outputId": "31c85f93-5a31-4d62-836b-b62d94a400f9"
      },
      "execution_count": null,
      "outputs": [
        {
          "output_type": "execute_result",
          "data": {
            "text/plain": [
              "84"
            ]
          },
          "metadata": {},
          "execution_count": 9
        }
      ]
    },
    {
      "cell_type": "markdown",
      "source": [
        "### Function มีส่วนสำคัญทั้งหมด 4 ส่วน \n",
        "\n",
        "1. บอก python ว่าเราจะเขียนฟังก์ชั่น ชื่ออะไร def  function_name(): (ขาดไม่ได้) \n",
        "2. กำหนดตัวแปรที่จะเป็น input (ขาดได้)\n",
        "3. ส่วนประมวลผล (ขาดไม่ได้)\n",
        "4. ส่วน output  (ขาดได้)"
      ],
      "metadata": {
        "id": "YUbfpfBEHRQJ"
      }
    },
    {
      "cell_type": "markdown",
      "source": [
        "#### ตัวอย่าง function ที่มีส่วนประกอบครบ"
      ],
      "metadata": {
        "id": "XMEaRqbRH7gh"
      }
    },
    {
      "cell_type": "code",
      "source": [
        "# Function มีครบทุกอย่าง \n",
        "def function_f1(x):\n",
        "    a = x**2 #ยกกำลัง คือ ** สองอัน\n",
        "    y = a + 75 \n",
        "    return y #ส่งค่าออกมาเป็นค่า y\n",
        "\n",
        "print('done!') #ไม่ให้มันเยื้องแล้ว ให้มันกลับมาเหมือนเดิม "
      ],
      "metadata": {
        "colab": {
          "base_uri": "https://localhost:8080/"
        },
        "id": "gBH2aZFZECDN",
        "outputId": "e7f14dd1-6f2d-40e5-ba5d-ca3adbfebac8"
      },
      "execution_count": null,
      "outputs": [
        {
          "output_type": "stream",
          "name": "stdout",
          "text": [
            "done!\n"
          ]
        }
      ]
    },
    {
      "cell_type": "markdown",
      "source": [
        "#### ตัวอย่าง function ที่ไม่มี input "
      ],
      "metadata": {
        "id": "H3iRX4ScIFAo"
      }
    },
    {
      "cell_type": "code",
      "source": [
        "def pi_v(): #กำหนดชื่อเป็น pi_v\n",
        "    y =3.14159265359\n",
        "    return y #ส่งค่าออกมาเป็นค่า y"
      ],
      "metadata": {
        "id": "xo72NizHECAp"
      },
      "execution_count": null,
      "outputs": []
    },
    {
      "cell_type": "code",
      "source": [
        "piv = pi_v()\n",
        "circle_area_r2 = pi_v()*(2**2) #ตัวอย่างหาพื้นที่วงกลม\n",
        "print(circle_area_r2) "
      ],
      "metadata": {
        "colab": {
          "base_uri": "https://localhost:8080/"
        },
        "id": "XPawpQpAEB9x",
        "outputId": "b224d098-1129-4f69-c0a5-7dd36d34766d"
      },
      "execution_count": null,
      "outputs": [
        {
          "output_type": "stream",
          "name": "stdout",
          "text": [
            "12.56637061436\n"
          ]
        }
      ]
    },
    {
      "cell_type": "markdown",
      "source": [
        "#### ตัวอย่าง function ที่ไม่มี Process"
      ],
      "metadata": {
        "id": "RnZl-70qJNDR"
      }
    },
    {
      "cell_type": "code",
      "source": [
        "def functions_a(): #กรณีไม่มี Process ไม่มีไม่ได้ ไม่งั้นจะ Error"
      ],
      "metadata": {
        "colab": {
          "base_uri": "https://localhost:8080/",
          "height": 132
        },
        "id": "Ov6cv07PJAA-",
        "outputId": "48e8b137-c9c4-4172-aace-2abf433d358a"
      },
      "execution_count": null,
      "outputs": [
        {
          "output_type": "error",
          "ename": "SyntaxError",
          "evalue": "ignored",
          "traceback": [
            "\u001b[0;36m  File \u001b[0;32m\"<ipython-input-16-515338c6d6c0>\"\u001b[0;36m, line \u001b[0;32m1\u001b[0m\n\u001b[0;31m    def functions_a(): #กรณีไม่มี Process ไม่มีไม่ได้ ไม่งั้นจะ Error\u001b[0m\n\u001b[0m                                                                     ^\u001b[0m\n\u001b[0;31mSyntaxError\u001b[0m\u001b[0;31m:\u001b[0m unexpected EOF while parsing\n"
          ]
        }
      ]
    },
    {
      "cell_type": "markdown",
      "source": [
        "#### ตัวอย่าง function ที่ไม่มี output"
      ],
      "metadata": {
        "id": "I5gS0zhIJYBZ"
      }
    },
    {
      "cell_type": "code",
      "source": [
        "def print_name_id(name,id): #name ตรงนี้ไม่ใช่ตัวแปรถาวร ถ้าถูกใช้แล้วก็จะหายไป\n",
        "    print(f'ชื่อ {name} รหัสประจำตัว {id}')"
      ],
      "metadata": {
        "id": "ZRhy_UgpJctr"
      },
      "execution_count": null,
      "outputs": []
    },
    {
      "cell_type": "code",
      "source": [
        "print_name_id('อุมาพร','623020547-0') #print ชื่อกับรหัสประจำตัวออกมา"
      ],
      "metadata": {
        "colab": {
          "base_uri": "https://localhost:8080/"
        },
        "id": "NVKOQO6aJdLo",
        "outputId": "05730c40-d16a-423e-f6d3-17caafb67e63"
      },
      "execution_count": null,
      "outputs": [
        {
          "output_type": "stream",
          "name": "stdout",
          "text": [
            "ชื่อ อุมาพร รหัสประจำตัว 623020547-0\n"
          ]
        }
      ]
    },
    {
      "cell_type": "code",
      "source": [
        "a = print_name_id('อุมาพร','623020547-0') #กรณีไม่มี return"
      ],
      "metadata": {
        "colab": {
          "base_uri": "https://localhost:8080/"
        },
        "id": "FdEq7YN5JdJR",
        "outputId": "24cd6e03-8bd6-4b24-da91-d624ac416986"
      },
      "execution_count": null,
      "outputs": [
        {
          "output_type": "stream",
          "name": "stdout",
          "text": [
            "ชื่อ อุมาพร รหัสประจำตัว 623020547-0\n"
          ]
        }
      ]
    },
    {
      "cell_type": "code",
      "source": [
        "a #ไม่มี return ค่า a เลยเป็นช่องว่างธรรมดา"
      ],
      "metadata": {
        "id": "BiUmAXR_JdGp"
      },
      "execution_count": null,
      "outputs": []
    },
    {
      "cell_type": "markdown",
      "source": [
        "#### ตัวอย่าง function `print` \n",
        "\n",
        "https://www.programiz.com/python-programming/methods/built-in/print"
      ],
      "metadata": {
        "id": "_OoGv1YdOvGT"
      }
    },
    {
      "cell_type": "code",
      "source": [
        " print('อุมาพร',end=' -> ') #จะอยู่ในบรรทัดเดียวกัน\n",
        " print('623020547-0') #\\n ขึ้นบรรทัดใหม่"
      ],
      "metadata": {
        "colab": {
          "base_uri": "https://localhost:8080/"
        },
        "id": "9pAY5bKhO28J",
        "outputId": "7d04140f-d35d-447f-ff61-c28b3575170e"
      },
      "execution_count": null,
      "outputs": [
        {
          "output_type": "stream",
          "name": "stdout",
          "text": [
            "อุมาพร -> 623020547-0\n"
          ]
        }
      ]
    },
    {
      "cell_type": "code",
      "source": [
        " print('อุมาพร',end=' 623020547-0 ') #จะอยู่ในบรรทัดเดียวกัน"
      ],
      "metadata": {
        "colab": {
          "base_uri": "https://localhost:8080/"
        },
        "id": "FxDxfe5HD5oR",
        "outputId": "ca07cfe0-fa91-4265-d788-61243cc6c670"
      },
      "execution_count": null,
      "outputs": [
        {
          "output_type": "stream",
          "name": "stdout",
          "text": [
            "อุมาพร 623020547-0 "
          ]
        }
      ]
    },
    {
      "cell_type": "code",
      "source": [
        " print('อุมาพร',' 623020547-0 ',sep=' & ') #จะเพิ่ม & ให้"
      ],
      "metadata": {
        "colab": {
          "base_uri": "https://localhost:8080/"
        },
        "id": "vRVbDFsLD6Dv",
        "outputId": "bdf45d58-2546-405f-e693-5847961158b9"
      },
      "execution_count": null,
      "outputs": [
        {
          "output_type": "stream",
          "name": "stdout",
          "text": [
            "อุมาพร &  623020547-0 \n"
          ]
        }
      ]
    },
    {
      "cell_type": "markdown",
      "source": [
        "## input ของ function แบ่งเป็น 2 ชนิด (จำเป็นต้องใส่ กับ ไม่จำเป็นต้องใส่)"
      ],
      "metadata": {
        "id": "SJQtUv9AQFb8"
      }
    },
    {
      "cell_type": "markdown",
      "source": [
        "### ตัวอย่าง function `print_grade` มี input 3 ตัว จำเป็นต้องใส่ 2 ตัว คือ name กับ id และ ไม่จำเป็นต้องใส่ 1 ตัว คือ เกรด  ซึ่งมีค่าเป็นค่าเริ่มต้น เป็น F "
      ],
      "metadata": {
        "id": "uSJdv_aRRByN"
      }
    },
    {
      "cell_type": "code",
      "source": [
        "def print_grade(name,id,grade = 'F'): #ฟังกชั่นมี input , พารามิเตอร์ 3 ตัว \n",
        "     print(f'รหัสนักศึกษา {id} ชื่อ {name}')\n",
        "     print(f'ได้เกรด {grade}')"
      ],
      "metadata": {
        "id": "j_pYu69wD6BU"
      },
      "execution_count": null,
      "outputs": []
    },
    {
      "cell_type": "code",
      "source": [
        "print_grade('นางสาวอุมาพร คำภิชัย' , '623020547-0' , 'A') #ลองปริ้นออกมาดู ซึ่งต้องใส่ให้ตรงกับที่ใส่ด้านบนคือ ใส่ชื่อก่อนใส่ไอดี #ถ้าไม่ใส่ เกรดจะได้ เกรด F"
      ],
      "metadata": {
        "colab": {
          "base_uri": "https://localhost:8080/"
        },
        "id": "Sd8FqmMzQNrq",
        "outputId": "90162f0a-bbdf-40d0-8929-f5d509976383"
      },
      "execution_count": null,
      "outputs": [
        {
          "output_type": "stream",
          "name": "stdout",
          "text": [
            "รหัสนักศึกษา 623020547-0 ชื่อ นางสาวอุมาพร คำภิชัย\n",
            "ได้เกรด A\n"
          ]
        }
      ]
    },
    {
      "cell_type": "code",
      "source": [
        "print_grade(id = '623020547-0' ,name = 'นางสาวอุมาพร คำภิชัย' ,grade='A' ) #กรณีนี้แบบกำหนดเลยว่า จะเอาอะไรขึ้นก่อน"
      ],
      "metadata": {
        "colab": {
          "base_uri": "https://localhost:8080/"
        },
        "id": "KCiHTczUQNpB",
        "outputId": "da86e693-5194-4ee4-843b-3039f0249a77"
      },
      "execution_count": null,
      "outputs": [
        {
          "output_type": "stream",
          "name": "stdout",
          "text": [
            "รหัสนักศึกษา 623020547-0 ชื่อ นางสาวอุมาพร คำภิชัย\n",
            "ได้เกรด A\n"
          ]
        }
      ]
    },
    {
      "cell_type": "markdown",
      "source": [
        "# Conditional Statement (if)"
      ],
      "metadata": {
        "id": "mOJltVtrD8RQ"
      }
    }
  ]
}