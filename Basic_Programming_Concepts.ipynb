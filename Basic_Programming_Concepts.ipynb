{
  "nbformat": 4,
  "nbformat_minor": 0,
  "metadata": {
    "colab": {
      "name": "Basic Programming Concepts.ipynb",
      "provenance": [],
      "include_colab_link": true
    },
    "kernelspec": {
      "name": "python3",
      "display_name": "Python 3"
    },
    "language_info": {
      "name": "python"
    }
  },
  "cells": [
    {
      "cell_type": "markdown",
      "metadata": {
        "id": "view-in-github",
        "colab_type": "text"
      },
      "source": [
        "<a href=\"https://colab.research.google.com/github/khanittha-phusopha/data_viz_2022/blob/main/Basic_Programming_Concepts.ipynb\" target=\"_parent\"><img src=\"https://colab.research.google.com/assets/colab-badge.svg\" alt=\"Open In Colab\"/></a>"
      ]
    },
    {
      "cell_type": "markdown",
      "source": [
        "#Functions ($f(x)=y$)\n"
      ],
      "metadata": {
        "id": "FkZnl69IDi2s"
      }
    },
    {
      "cell_type": "markdown",
      "source": [
        "\n",
        "\n",
        "```python\n",
        "def function_name(input_x):\n",
        "  # do something with input_x to get output_y\n",
        "  return output_y\n",
        "```\n",
        "\n"
      ],
      "metadata": {
        "id": "tceUUkS0EPNS"
      }
    },
    {
      "cell_type": "markdown",
      "source": [
        " $f_1(x)=x^2$ + $75$"
      ],
      "metadata": {
        "id": "naHIYoH5Fy_i"
      }
    },
    {
      "cell_type": "code",
      "source": [
        "def function_f1(x):\n",
        "  a = x**2\n",
        "  y = a + 75\n",
        "  return y"
      ],
      "metadata": {
        "id": "8VXDZZJhD8qE"
      },
      "execution_count": null,
      "outputs": []
    },
    {
      "cell_type": "code",
      "source": [
        "function_f1(3)"
      ],
      "metadata": {
        "colab": {
          "base_uri": "https://localhost:8080/"
        },
        "id": "c25MQ1K7D8iF",
        "outputId": "795fc453-87b0-41d6-f0a8-18ece4492d6f"
      },
      "execution_count": null,
      "outputs": [
        {
          "output_type": "execute_result",
          "data": {
            "text/plain": [
              "84"
            ]
          },
          "metadata": {},
          "execution_count": 3
        }
      ]
    },
    {
      "cell_type": "code",
      "source": [
        "def function_f1(x): #บรรทัดที่ 2-4 เยื้องจากบรรทัดที่ 1 เพื่อบอกว่าอยู่ภายใต้คำสั่งบรรทัดที่ 1\n",
        "  a = x**2\n",
        "  y = a + 75\n",
        "  return y\n",
        "\n",
        "print('done!') #ตัวที่ไม่เขียนเยื้อง แสดงให้เห็นว่ามีความสำคัญเท่ากัน"
      ],
      "metadata": {
        "colab": {
          "base_uri": "https://localhost:8080/"
        },
        "id": "am3I9UJvD8fC",
        "outputId": "ab1e4933-cfac-42ee-f472-5f88569b0084"
      },
      "execution_count": null,
      "outputs": [
        {
          "output_type": "stream",
          "name": "stdout",
          "text": [
            "done!\n"
          ]
        }
      ]
    },
    {
      "cell_type": "code",
      "source": [
        "function_f1(3)"
      ],
      "metadata": {
        "colab": {
          "base_uri": "https://localhost:8080/"
        },
        "id": "fTwMh_EPD8cI",
        "outputId": "2272f818-e676-4b63-ad71-fe3032a833fb"
      },
      "execution_count": null,
      "outputs": [
        {
          "output_type": "execute_result",
          "data": {
            "text/plain": [
              "84"
            ]
          },
          "metadata": {},
          "execution_count": 5
        }
      ]
    },
    {
      "cell_type": "markdown",
      "source": [
        "function มีส่วนที่สำคัญทั้งหมด 4 ส่วน\n",
        "1. บอก python ว่าเราจะเขียนฟังก์ชั้่น ชื่ออะไร def function_name() : (ขาดไม่ได้)\n",
        "2. กำหนดตัวแปรที่จะเป็น input *Input* (ขาดไม่ได้)\n",
        "3. ส่วนประมวลผล do_something with *Input* to get *Output* (ขาดไม่ได้)\n",
        "4. ส่วน output return *Output* (ขาดไม่ได้)"
      ],
      "metadata": {
        "id": "n-l8SY09Hgzi"
      }
    },
    {
      "cell_type": "markdown",
      "source": [
        "##ตัวอย่าง function ที่มีส่วนประกอบครบ"
      ],
      "metadata": {
        "id": "SNEGdLcXIN_H"
      }
    },
    {
      "cell_type": "code",
      "source": [
        "def function_f1(x):\n",
        "  a = x**2\n",
        "  y = a + 75\n",
        "  return y"
      ],
      "metadata": {
        "id": "UQQhKXFLD8Y7"
      },
      "execution_count": null,
      "outputs": []
    },
    {
      "cell_type": "markdown",
      "source": [
        "##ตัวอย่าง function ที่ไม่มี input"
      ],
      "metadata": {
        "id": "DVn4RkrlIYRC"
      }
    },
    {
      "cell_type": "code",
      "source": [
        "def pi_v():\n",
        "  y = 3.14159265359\n",
        "  return y"
      ],
      "metadata": {
        "id": "MNltWnPED8WK"
      },
      "execution_count": null,
      "outputs": []
    },
    {
      "cell_type": "code",
      "source": [
        "piv = pi_v()\n",
        "circle_area_r2 = pi_v()*(2**2)\n",
        "print(circle_area_r2)"
      ],
      "metadata": {
        "colab": {
          "base_uri": "https://localhost:8080/"
        },
        "id": "rN_vt0_oD8Ok",
        "outputId": "f3ca662d-5019-4fae-9f17-e3c53989e974"
      },
      "execution_count": null,
      "outputs": [
        {
          "output_type": "stream",
          "name": "stdout",
          "text": [
            "12.56637061436\n"
          ]
        }
      ]
    },
    {
      "cell_type": "markdown",
      "source": [
        "###function ไม่มี process ไม่ได้"
      ],
      "metadata": {
        "id": "vYhN2AgrJMDY"
      }
    },
    {
      "cell_type": "code",
      "source": [
        "def function_a() : #function ไม่มี process"
      ],
      "metadata": {
        "colab": {
          "base_uri": "https://localhost:8080/",
          "height": 130
        },
        "id": "iRhO22cWJEw_",
        "outputId": "5da44f20-1b33-4211-f707-d11ee407bb40"
      },
      "execution_count": null,
      "outputs": [
        {
          "output_type": "error",
          "ename": "SyntaxError",
          "evalue": "ignored",
          "traceback": [
            "\u001b[0;36m  File \u001b[0;32m\"<ipython-input-13-d2f51700bb23>\"\u001b[0;36m, line \u001b[0;32m1\u001b[0m\n\u001b[0;31m    def function_a() : #function ไม่มี process\u001b[0m\n\u001b[0m                                              ^\u001b[0m\n\u001b[0;31mSyntaxError\u001b[0m\u001b[0;31m:\u001b[0m unexpected EOF while parsing\n"
          ]
        }
      ]
    },
    {
      "cell_type": "markdown",
      "source": [
        "###ตัวอย่าง function ที่ไม่มี output"
      ],
      "metadata": {
        "id": "BdqogP1XJbwi"
      }
    },
    {
      "cell_type": "code",
      "source": [
        "def print_name_id(name,id): #input สามารถมีได้หลายตัว\n",
        "  print(f'ชื่อ {name} รหัสประจำตัว {id}')"
      ],
      "metadata": {
        "id": "_A2Pimz-JEuI"
      },
      "execution_count": null,
      "outputs": []
    },
    {
      "cell_type": "code",
      "source": [
        "print_name_id('Sirilak','623020451-3') #function ไม่มี output ไม่ต้อง return ใช้ print ได้"
      ],
      "metadata": {
        "colab": {
          "base_uri": "https://localhost:8080/"
        },
        "id": "PNGxZOXtJErL",
        "outputId": "c280cd07-3b5e-4953-f682-fca0601cb969"
      },
      "execution_count": null,
      "outputs": [
        {
          "output_type": "stream",
          "name": "stdout",
          "text": [
            "ชื่อ Sirilak รหัสประจำตัว 623020451-3\n"
          ]
        }
      ]
    },
    {
      "cell_type": "code",
      "source": [
        "a = print_name_id('Sirilak','623020451-3')"
      ],
      "metadata": {
        "colab": {
          "base_uri": "https://localhost:8080/"
        },
        "id": "oelUW24vJEmC",
        "outputId": "9520fa5e-cb7d-4022-db59-2e0cc7799d65"
      },
      "execution_count": null,
      "outputs": [
        {
          "output_type": "stream",
          "name": "stdout",
          "text": [
            "ชื่อ Sirilak รหัสประจำตัว 623020451-3\n"
          ]
        }
      ]
    },
    {
      "cell_type": "code",
      "source": [
        "a"
      ],
      "metadata": {
        "id": "6QekGnf2LZpf"
      },
      "execution_count": null,
      "outputs": []
    },
    {
      "cell_type": "code",
      "source": [
        "print('Sirilak',end='->')\n",
        "print('623020451-3')"
      ],
      "metadata": {
        "colab": {
          "base_uri": "https://localhost:8080/"
        },
        "id": "atmNGulcO8GO",
        "outputId": "752c72cc-f70f-464b-a75d-02efbe8b82f4"
      },
      "execution_count": null,
      "outputs": [
        {
          "output_type": "stream",
          "name": "stdout",
          "text": [
            "Sirilak->623020451-3\n"
          ]
        }
      ]
    },
    {
      "cell_type": "code",
      "source": [
        "print('Sirilak','623020451-3')"
      ],
      "metadata": {
        "colab": {
          "base_uri": "https://localhost:8080/"
        },
        "id": "c8AWI492O8C2",
        "outputId": "afccd477-a6f7-4584-8db1-ac08a6c15538"
      },
      "execution_count": null,
      "outputs": [
        {
          "output_type": "stream",
          "name": "stdout",
          "text": [
            "Sirilak 623020451-3\n"
          ]
        }
      ]
    },
    {
      "cell_type": "code",
      "source": [
        "print('Sirilak','623020451-3',sep=' & ')"
      ],
      "metadata": {
        "colab": {
          "base_uri": "https://localhost:8080/"
        },
        "id": "SI9rWflfO77e",
        "outputId": "809af80e-8f15-482b-decf-546f6a9b74ae"
      },
      "execution_count": null,
      "outputs": [
        {
          "output_type": "stream",
          "name": "stdout",
          "text": [
            "Sirilak & 623020451-3\n"
          ]
        }
      ]
    },
    {
      "cell_type": "markdown",
      "source": [
        "##input ของ function แบ่งเป็น 2 ชนิด (จำเป็นต้องใส่ กับ ไม่จำเป็นต้องใส่)"
      ],
      "metadata": {
        "id": "rVx5OC7qQEqG"
      }
    },
    {
      "cell_type": "markdown",
      "source": [
        "ตัวอย่าง function print_grade() มี input 3 ตัว จำเป็นต้องใส่ 2 ตัว คือ name กับ id และไม่จำเป็นต้องใส่ 1 ตัว คือเกรด ซึ่งมีค่า default เป็น A"
      ],
      "metadata": {
        "id": "3213lH2MRCbn"
      }
    },
    {
      "cell_type": "code",
      "source": [
        "def print_grade(name,id,grade = 'A'):\n",
        "  print(f'รหัสประจำตัว {id} ชื่อ {name}')\n",
        "  print(f'ได้เกรด {grade}')"
      ],
      "metadata": {
        "id": "udrlQ5ueO74P"
      },
      "execution_count": null,
      "outputs": []
    },
    {
      "cell_type": "code",
      "source": [
        "print_grade('ศิริลักษณ์ กัณหารัตน์','623020451-3')"
      ],
      "metadata": {
        "colab": {
          "base_uri": "https://localhost:8080/"
        },
        "id": "91p2ngweQ4wt",
        "outputId": "ecccf979-dd52-4232-d191-7be7136ee71c"
      },
      "execution_count": null,
      "outputs": [
        {
          "output_type": "stream",
          "name": "stdout",
          "text": [
            "รหัสประจำตัว 623020451-3 ชื่อ ศิริลักษณ์ กัณหารัตน์\n",
            "ได้เกรด A\n"
          ]
        }
      ]
    },
    {
      "cell_type": "code",
      "source": [
        "print_grade('ศิริลักษณ์ กัณหารัตน์','623020451-3','B')"
      ],
      "metadata": {
        "colab": {
          "base_uri": "https://localhost:8080/"
        },
        "id": "_Z3F-QWaQ4m0",
        "outputId": "60c4ab21-dcd2-43e8-c95e-e2419c761981"
      },
      "execution_count": null,
      "outputs": [
        {
          "output_type": "stream",
          "name": "stdout",
          "text": [
            "รหัสประจำตัว 623020451-3 ชื่อ ศิริลักษณ์ กัณหารัตน์\n",
            "ได้เกรด B\n"
          ]
        }
      ]
    },
    {
      "cell_type": "code",
      "source": [
        "print_grade(id='623020451-3',name='ศิริลักษณ์ กัณหารัตน์',grade='A')\n",
        "print(print_grade)"
      ],
      "metadata": {
        "colab": {
          "base_uri": "https://localhost:8080/"
        },
        "id": "Y3GDivbpQ4jt",
        "outputId": "dd88a3ce-81eb-45cf-9444-35ad01b6dfde"
      },
      "execution_count": null,
      "outputs": [
        {
          "output_type": "stream",
          "name": "stdout",
          "text": [
            "รหัสประจำตัว 623020451-3 ชื่อ ศิริลักษณ์ กัณหารัตน์\n",
            "ได้เกรด A\n",
            "<function print_grade at 0x7fde078403b0>\n"
          ]
        }
      ]
    },
    {
      "cell_type": "code",
      "source": [
        ""
      ],
      "metadata": {
        "id": "boPgue-oQ4g1"
      },
      "execution_count": null,
      "outputs": []
    },
    {
      "cell_type": "markdown",
      "source": [
        "#Looping (for)"
      ],
      "metadata": {
        "id": "3lN9e1vKDoo0"
      }
    },
    {
      "cell_type": "markdown",
      "source": [
        "\n",
        "\n",
        "```python\n",
        "for member in listEx:\n",
        "  do_something()\n",
        "```\n",
        "\n"
      ],
      "metadata": {
        "id": "WXp0rfe2UJdX"
      }
    },
    {
      "cell_type": "code",
      "source": [
        "for member in [1,2,3,4,5,6]:\n",
        "  print(member)"
      ],
      "metadata": {
        "colab": {
          "base_uri": "https://localhost:8080/"
        },
        "id": "YSZzFGgJSQNv",
        "outputId": "f2f1a7cb-2116-49c7-90ea-e7cf945f93ac"
      },
      "execution_count": null,
      "outputs": [
        {
          "output_type": "stream",
          "name": "stdout",
          "text": [
            "1\n",
            "2\n",
            "3\n",
            "4\n",
            "5\n",
            "6\n"
          ]
        }
      ]
    },
    {
      "cell_type": "code",
      "source": [
        "def print_name(name):\n",
        "  print(f'ฉันชื่อ {name}')"
      ],
      "metadata": {
        "id": "fhFks38vU1_e"
      },
      "execution_count": null,
      "outputs": []
    },
    {
      "cell_type": "code",
      "source": [
        "for name in ['วัชราภรณ์','จุฑากาญจน์','ชลธิชา','ญาดา','กิตติคุณ']:\n",
        "  N = name\n",
        "  print_name(N)"
      ],
      "metadata": {
        "colab": {
          "base_uri": "https://localhost:8080/"
        },
        "id": "w8lr7VXvU14f",
        "outputId": "f52a6c5b-fe6e-4d8e-c245-c2a2629c2daa"
      },
      "execution_count": null,
      "outputs": [
        {
          "output_type": "stream",
          "name": "stdout",
          "text": [
            "ฉันชื่อ วัชราภรณ์\n",
            "ฉันชื่อ จุฑากาญจน์\n",
            "ฉันชื่อ ชลธิชา\n",
            "ฉันชื่อ ญาดา\n",
            "ฉันชื่อ กิตติคุณ\n"
          ]
        }
      ]
    },
    {
      "cell_type": "code",
      "source": [
        "list_name_id_grade =[['ศิริลักษณ์','623020451-3','B'],\n",
        "                     ['เขมอัปสร','623020731-7','A'],\n",
        "                     ['ชนิกานต์','623020995-0','C']]\n"
      ],
      "metadata": {
        "id": "x6Gvtj-cU10G"
      },
      "execution_count": null,
      "outputs": []
    },
    {
      "cell_type": "code",
      "source": [
        "for each in list_name_id_grade:\n",
        "  name = each[0]\n",
        "  id = each[1]\n",
        "  grade = each[2]\n",
        "  print_grade(name,id,grade)\n",
        "  print('--------------')"
      ],
      "metadata": {
        "colab": {
          "base_uri": "https://localhost:8080/"
        },
        "id": "9MD-sG6jU1xf",
        "outputId": "bac23192-a73d-41ae-e240-63a5b6b6e495"
      },
      "execution_count": null,
      "outputs": [
        {
          "output_type": "stream",
          "name": "stdout",
          "text": [
            "รหัสประจำตัว 623020451-3 ชื่อ ศิริลักษณ์\n",
            "ได้เกรด B\n",
            "--------------\n",
            "รหัสประจำตัว 623020731-7 ชื่อ เขมอัปสร\n",
            "ได้เกรด A\n",
            "--------------\n",
            "รหัสประจำตัว 623020995-0 ชื่อ ชนิกานต์\n",
            "ได้เกรด C\n",
            "--------------\n"
          ]
        }
      ]
    },
    {
      "cell_type": "markdown",
      "source": [
        "##ใช้ for loop เพิ่มสมาชิกใน lost"
      ],
      "metadata": {
        "id": "-SVxKGPIYaJV"
      }
    },
    {
      "cell_type": "code",
      "source": [
        "list_name = [] #นิยาม\n",
        "list_id = []\n",
        "list_grade = []\n",
        "for each in list_name_id_grade:\n",
        "  list_name.append(each[0])\n",
        "  list_id.append(each[1])\n",
        "  list_grade.append(each[2])"
      ],
      "metadata": {
        "id": "S5PiFv_XU1vB"
      },
      "execution_count": null,
      "outputs": []
    },
    {
      "cell_type": "code",
      "source": [
        "list_name"
      ],
      "metadata": {
        "colab": {
          "base_uri": "https://localhost:8080/"
        },
        "id": "Bjk6N8UPU1sK",
        "outputId": "a370e830-61ea-4007-fd19-399817edf3ac"
      },
      "execution_count": null,
      "outputs": [
        {
          "output_type": "execute_result",
          "data": {
            "text/plain": [
              "['ศิริลักษณ์', 'เขมอัปสร', 'ชนิกานต์']"
            ]
          },
          "metadata": {},
          "execution_count": 13
        }
      ]
    },
    {
      "cell_type": "markdown",
      "source": [
        "##การวนลูปด้วย `range()`"
      ],
      "metadata": {
        "id": "yhDRGOPjcA1l"
      }
    },
    {
      "cell_type": "code",
      "source": [
        "for i in range(50): # วน50ครั้ง\n",
        "  print('งง', end = ' ')"
      ],
      "metadata": {
        "colab": {
          "base_uri": "https://localhost:8080/"
        },
        "id": "xK3lRTTyU1pB",
        "outputId": "97f9886a-ffb6-4a78-c8a0-63e72957dc7d"
      },
      "execution_count": null,
      "outputs": [
        {
          "output_type": "stream",
          "name": "stdout",
          "text": [
            "งง งง งง งง งง งง งง งง งง งง งง งง งง งง งง งง งง งง งง งง งง งง งง งง งง งง งง งง งง งง งง งง งง งง งง งง งง งง งง งง งง งง งง งง งง งง งง งง งง งง "
          ]
        }
      ]
    },
    {
      "cell_type": "markdown",
      "source": [
        "###Loop ซ้อน Loop"
      ],
      "metadata": {
        "id": "gvtQaZ_JcbM8"
      }
    },
    {
      "cell_type": "code",
      "source": [
        "for mem1 in range(2,5): #[2,3,4]\n",
        "  print(f'now mem1 = {mem1}')\n",
        "  for mem2 in range(1,13): #[2,3,4,5,6,7,8,9,10,11,12]\n",
        "    print(f'{mem1} x {mem2} = {mem1*mem2} ')\n",
        "  print('end inner')"
      ],
      "metadata": {
        "colab": {
          "base_uri": "https://localhost:8080/"
        },
        "id": "apcTsu27U1jH",
        "outputId": "3ec4c976-9250-4eff-d7c6-7ea53dd12149"
      },
      "execution_count": null,
      "outputs": [
        {
          "output_type": "stream",
          "name": "stdout",
          "text": [
            "now mem1 = 2\n",
            "2 x 1 = 2 \n",
            "2 x 2 = 4 \n",
            "2 x 3 = 6 \n",
            "2 x 4 = 8 \n",
            "2 x 5 = 10 \n",
            "2 x 6 = 12 \n",
            "2 x 7 = 14 \n",
            "2 x 8 = 16 \n",
            "2 x 9 = 18 \n",
            "2 x 10 = 20 \n",
            "2 x 11 = 22 \n",
            "2 x 12 = 24 \n",
            "end inner\n",
            "now mem1 = 3\n",
            "3 x 1 = 3 \n",
            "3 x 2 = 6 \n",
            "3 x 3 = 9 \n",
            "3 x 4 = 12 \n",
            "3 x 5 = 15 \n",
            "3 x 6 = 18 \n",
            "3 x 7 = 21 \n",
            "3 x 8 = 24 \n",
            "3 x 9 = 27 \n",
            "3 x 10 = 30 \n",
            "3 x 11 = 33 \n",
            "3 x 12 = 36 \n",
            "end inner\n",
            "now mem1 = 4\n",
            "4 x 1 = 4 \n",
            "4 x 2 = 8 \n",
            "4 x 3 = 12 \n",
            "4 x 4 = 16 \n",
            "4 x 5 = 20 \n",
            "4 x 6 = 24 \n",
            "4 x 7 = 28 \n",
            "4 x 8 = 32 \n",
            "4 x 9 = 36 \n",
            "4 x 10 = 40 \n",
            "4 x 11 = 44 \n",
            "4 x 12 = 48 \n",
            "end inner\n"
          ]
        }
      ]
    },
    {
      "cell_type": "markdown",
      "source": [
        "### Loop in Function"
      ],
      "metadata": {
        "id": "ILhlhEe4gAPF"
      }
    },
    {
      "cell_type": "code",
      "source": [
        "def print_grade_loop(name,grade):\n",
        "  for n,g in zip(name,grade):\n",
        "    print(f'{n} ได้เกรด {g}')"
      ],
      "metadata": {
        "id": "cJ0zAut2f7dC"
      },
      "execution_count": null,
      "outputs": []
    },
    {
      "cell_type": "code",
      "source": [
        "print_grade_loop(list_name,list_grade)"
      ],
      "metadata": {
        "colab": {
          "base_uri": "https://localhost:8080/"
        },
        "id": "e6CSe77wf7Ta",
        "outputId": "9a066fa0-9fc0-4695-95fa-5cc495458163"
      },
      "execution_count": null,
      "outputs": [
        {
          "output_type": "stream",
          "name": "stdout",
          "text": [
            "ศิริลักษณ์ ได้เกรด B\n",
            "เขมอัปสร ได้เกรด A\n",
            "ชนิกานต์ ได้เกรด C\n"
          ]
        }
      ]
    },
    {
      "cell_type": "markdown",
      "source": [
        "#Conditional Statement (if)"
      ],
      "metadata": {
        "id": "7bh72E3IDsBK"
      }
    },
    {
      "cell_type": "markdown",
      "source": [
        "\n",
        "\n",
        "```python\n",
        "if condition1: #เช็ค condition1 ว่าเป้นจริงไหม\n",
        "  do_something() ##ถ้า condition1 เป็นจริง ทำ do_something()\n",
        "elif condition2:\n",
        "  do_another_thing() ##ถ้า condition1 ไม่เป็นจริง แต่ condition2 เป็นจริง ทำ do_another_thing()\n",
        "else:\n",
        "  do_the_last_thing() ##ถ้าไม่มี condition ไหนเป็นจริงเลย ทำ do_the_last_thing()\n",
        "```\n",
        "\n"
      ],
      "metadata": {
        "id": "VjMH1jGKiMaK"
      }
    },
    {
      "cell_type": "code",
      "source": [
        "for n in list_name:\n",
        "  if len(n)>5:\n",
        "    print(f'{n} ได้เกรด A')\n",
        "  else :\n",
        "    print(f'{n} ได้เกรด F')"
      ],
      "metadata": {
        "colab": {
          "base_uri": "https://localhost:8080/"
        },
        "id": "HpOeAEWKf7QD",
        "outputId": "f3593332-fd2e-449f-d0e1-b008b1492f46"
      },
      "execution_count": null,
      "outputs": [
        {
          "output_type": "stream",
          "name": "stdout",
          "text": [
            "ศิริลักษณ์ ได้เกรด A\n",
            "เขมอัปสร ได้เกรด A\n",
            "ชนิกานต์ ได้เกรด A\n"
          ]
        }
      ]
    },
    {
      "cell_type": "markdown",
      "source": [
        "### operator ที่ใช้ตรวจสอบ condition\n",
        "`== , != , >= , <= , < , > , and , or`\n",
        "\n"
      ],
      "metadata": {
        "id": "QxKTEoE1kUS7"
      }
    },
    {
      "cell_type": "code",
      "execution_count": null,
      "metadata": {
        "id": "uXx79RvlDag6",
        "colab": {
          "base_uri": "https://localhost:8080/"
        },
        "outputId": "585123c6-05db-495a-bc03-59bd77179c07"
      },
      "outputs": [
        {
          "output_type": "stream",
          "name": "stdout",
          "text": [
            "False\n"
          ]
        }
      ],
      "source": [
        "a = 10 == 20 # 10มีค่าเท่ากับ 20 หรือไม่\n",
        "print(a)"
      ]
    },
    {
      "cell_type": "code",
      "source": [
        "b = 15 <= 20\n",
        "print(b)"
      ],
      "metadata": {
        "colab": {
          "base_uri": "https://localhost:8080/"
        },
        "id": "Dihzd7pikz9w",
        "outputId": "879170bc-e265-4a96-a900-b78dda68bff6"
      },
      "execution_count": null,
      "outputs": [
        {
          "output_type": "stream",
          "name": "stdout",
          "text": [
            "True\n"
          ]
        }
      ]
    },
    {
      "cell_type": "code",
      "source": [
        "if a:\n",
        "  print('X')"
      ],
      "metadata": {
        "id": "RBJGMiKzkz6p"
      },
      "execution_count": null,
      "outputs": []
    },
    {
      "cell_type": "code",
      "source": [
        "if True:\n",
        "  print('X')"
      ],
      "metadata": {
        "colab": {
          "base_uri": "https://localhost:8080/"
        },
        "id": "dmGXkKDZkz3x",
        "outputId": "a60b0769-a41a-4f90-a75b-94df6547969e"
      },
      "execution_count": null,
      "outputs": [
        {
          "output_type": "stream",
          "name": "stdout",
          "text": [
            "X\n"
          ]
        }
      ]
    },
    {
      "cell_type": "code",
      "source": [
        "if a and b:\n",
        "  print('X')"
      ],
      "metadata": {
        "id": "slXrENEFlTeh"
      },
      "execution_count": null,
      "outputs": []
    },
    {
      "cell_type": "code",
      "source": [
        "if a or b:\n",
        "  print('X')"
      ],
      "metadata": {
        "colab": {
          "base_uri": "https://localhost:8080/"
        },
        "id": "UHrqmCP4laW5",
        "outputId": "58afd4f6-9817-40b4-d2c9-5a9036cdd44f"
      },
      "execution_count": null,
      "outputs": [
        {
          "output_type": "stream",
          "name": "stdout",
          "text": [
            "X\n"
          ]
        }
      ]
    },
    {
      "cell_type": "markdown",
      "source": [
        "# HW4\n",
        "เขียน function ตัดเกรด โดยที่ input เป็นคะแนน (0-100) , output เป็นเกรด (F-A) หรือ 'ไม่สามารถตัดเกรดได้'\n",
        "\n",
        "วนลูปตัดเกรด input = [1,50,65,90,101,-5,49,'ก',80]\n",
        "\n",
        "กำหนด\n",
        "\n",
        "* ถ้าคะแนนอยู่ระหว่างมากกว่าหรือเท่ากับ 0 แต่น้อยกว่า 50 จะได้เกรด F\n",
        "* ถ้าคะแนนอยู่ระหว่างมากกว่าหรือเท่ากับ 50 แต่น้อยกว่า 55 จะได้เกรด D\n",
        "* ถ้าคะแนนอยู่ระหว่างมากกว่าหรือเท่ากับ 55 แต่น้อยกว่า 60 จะได้เกรด D+\n",
        "* ถ้าคะแนนอยู่ระหว่างมากกว่าหรือเท่ากับ 60 แต่น้อยกว่า 65 จะได้เกรด C\n",
        "* ถ้าคะแนนอยู่ระหว่างมากกว่าหรือเท่ากับ 65 แต่น้อยกว่า 70 จะได้เกรด C+\n",
        "* ถ้าคะแนนอยู่ระหว่างมากกว่าหรือเท่ากับ 70 แต่น้อยกว่า 75 จะได้เกรด B\n",
        "* ถ้าคะแนนอยู่ระหว่างมากกว่าหรือเท่ากับ 7 5 แต่น้อยกว่า 80 จะได้เกรด B+\n",
        "* ถ้าคะแนนอยู่ระหว่างมากกว่าหรือเท่ากับ 80 จะได้เกรด A\n",
        "* ถ้าคะแนนไม่อยู่ในช่วง 0-100 ให้ return 'ไม่สามารถตัดเกรดได้'"
      ],
      "metadata": {
        "id": "qMNQWg7GlpHD"
      }
    },
    {
      "cell_type": "code",
      "source": [
        "score = [1,50,65,90,101,-5,49,'ก',80]"
      ],
      "metadata": {
        "id": "-u3zIWmwmUcn"
      },
      "execution_count": null,
      "outputs": []
    },
    {
      "cell_type": "code",
      "source": [
        "print(f'จากโจทย์ กำหนดให้ input = {score}')\n",
        "print('______________________________________________________________')\n",
        "for n in score:\n",
        "    if type(n) == type(''):\n",
        "            print (f'ข้อมูลเป็นอย่างอื่น คือ {n} นั่นคือ \"ไม่สามารถตัดเกรดได้\" ')\n",
        "    else:\n",
        "        if n > 100:\n",
        "            print(f'คะแนนเกิน 100 คือ {n} นั่นคือ \"ไม่สามารถตัดเกรดได้\" ')\n",
        "        elif n>=80:\n",
        "            print(f'คะเเนน เท่ากับ {n} ได้เกรด \"A\" ')\n",
        "        elif n>=75:\n",
        "            print(f'คะเเนน เท่ากับ {n} ได้เกรด \"B+\" ')\n",
        "        elif n>=70:\n",
        "            print(f'คะเเนน เท่ากับ {n} ได้เกรด \"B\" ')\n",
        "        elif n>=65:\n",
        "            print(f'คะเเนน เท่ากับ {n} ได้เกรด \"C+\" ')\n",
        "        elif n>=60:\n",
        "            print(f'คะเเนน เท่ากับ {n} ได้เกรด \"C\" ')\n",
        "        elif n>=55:\n",
        "            print(f'คะเเนน เท่ากับ {n} ได้เกรด \"D+\" ')\n",
        "        elif n>=50:\n",
        "            print(f'คะเเนน เท่ากับ {n} ได้เกรด \"D\" ')\n",
        "        elif n>=0:\n",
        "            print(f'คะเเนน เท่ากับ {n} ได้เกรด \"F\" ')\n",
        "        else:\n",
        "            print(f'คะแนนต่ำกว่า 0 คือ {n} นั่นคือ \"ไม่สามารถตัดเกรดได้\" ')\n",
        "    print('--------------------------------------')"
      ],
      "metadata": {
        "colab": {
          "base_uri": "https://localhost:8080/"
        },
        "id": "_nF3ccINet4-",
        "outputId": "440321f6-8dc3-4a8b-f6bd-cd6d810bd915"
      },
      "execution_count": null,
      "outputs": [
        {
          "output_type": "stream",
          "name": "stdout",
          "text": [
            "จากโจทย์ กำหนดให้ input = [1, 50, 65, 90, 101, -5, 49, 'ก', 80]\n",
            "______________________________________________________________\n",
            "คะเเนน เท่ากับ 1 ได้เกรด \"F\" \n",
            "--------------------------------------\n",
            "คะเเนน เท่ากับ 50 ได้เกรด \"D\" \n",
            "--------------------------------------\n",
            "คะเเนน เท่ากับ 65 ได้เกรด \"C+\" \n",
            "--------------------------------------\n",
            "คะเเนน เท่ากับ 90 ได้เกรด \"A\" \n",
            "--------------------------------------\n",
            "คะแนนเกิน 100 คือ 101 นั่นคือ \"ไม่สามารถตัดเกรดได้\" \n",
            "--------------------------------------\n",
            "คะแนนต่ำกว่า 0 คือ -5 นั่นคือ \"ไม่สามารถตัดเกรดได้\" \n",
            "--------------------------------------\n",
            "คะเเนน เท่ากับ 49 ได้เกรด \"F\" \n",
            "--------------------------------------\n",
            "ข้อมูลเป็นอย่างอื่น คือ ก นั่นคือ \"ไม่สามารถตัดเกรดได้\" \n",
            "--------------------------------------\n",
            "คะเเนน เท่ากับ 80 ได้เกรด \"A\" \n",
            "--------------------------------------\n"
          ]
        }
      ]
    }
  ]
}