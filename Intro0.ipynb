{
  "nbformat": 4,
  "nbformat_minor": 0,
  "metadata": {
    "colab": {
      "name": "Intro0.ipynb",
      "provenance": [],
      "authorship_tag": "ABX9TyOYvyj0cZusUEB5LI+tgJA0",
      "include_colab_link": true
    },
    "kernelspec": {
      "name": "python3",
      "display_name": "Python 3"
    },
    "language_info": {
      "name": "python"
    }
  },
  "cells": [
    {
      "cell_type": "markdown",
      "metadata": {
        "id": "view-in-github",
        "colab_type": "text"
      },
      "source": [
        "<a href=\"https://colab.research.google.com/github/khanittha-phusopha/data_viz_2022/blob/main/Intro0.ipynb\" target=\"_parent\"><img src=\"https://colab.research.google.com/assets/colab-badge.svg\" alt=\"Open In Colab\"/></a>"
      ]
    },
    {
      "cell_type": "markdown",
      "source": [
        "#introduction to Basic Programming for Data Science And Visualization"
      ],
      "metadata": {
        "id": "apYlXMql_t5e"
      }
    },
    {
      "cell_type": "code",
      "execution_count": 2,
      "metadata": {
        "colab": {
          "base_uri": "https://localhost:8080/"
        },
        "id": "Wy4Jcyze9rsp",
        "outputId": "417c9979-58ad-45e5-b88e-4c14a5e94267"
      },
      "outputs": [
        {
          "output_type": "execute_result",
          "data": {
            "text/plain": [
              "3"
            ]
          },
          "metadata": {},
          "execution_count": 2
        }
      ],
      "source": [
        " a=1\n",
        " b=2\n",
        " a+b"
      ]
    },
    {
      "cell_type": "markdown",
      "source": [
        "1+2"
      ],
      "metadata": {
        "id": "fG3tEDYD-u3W"
      }
    },
    {
      "cell_type": "code",
      "source": [
        "print('ขนิษฐา ภูโสภา ID 6230210425')"
      ],
      "metadata": {
        "colab": {
          "base_uri": "https://localhost:8080/"
        },
        "id": "-vwydv3f94WO",
        "outputId": "923f3747-39f3-413f-8782-933790cba880"
      },
      "execution_count": 8,
      "outputs": [
        {
          "output_type": "stream",
          "name": "stdout",
          "text": [
            "ขนิษฐา ภูโสภา ID 6230210425\n"
          ]
        }
      ]
    },
    {
      "cell_type": "code",
      "source": [
        "aaaa=1"
      ],
      "metadata": {
        "id": "hl2Nr0d2_ZJp"
      },
      "execution_count": 9,
      "outputs": []
    },
    {
      "cell_type": "code",
      "source": [
        ""
      ],
      "metadata": {
        "id": "fIIQyS-J_p6M"
      },
      "execution_count": null,
      "outputs": []
    }
  ]
}